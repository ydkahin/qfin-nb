{
 "cells": [
  {
   "cell_type": "code",
   "execution_count": 1,
   "metadata": {},
   "outputs": [],
   "source": [
    "import pandas as pd\n",
    "import numpy as np\n"
   ]
  },
  {
   "cell_type": "code",
   "execution_count": 64,
   "metadata": {},
   "outputs": [
    {
     "name": "stderr",
     "output_type": "stream",
     "text": [
      "/var/folders/h0/722z94dd3fb0pfv4wg3qmdkh0000gn/T/ipykernel_76537/2926170649.py:2: UserWarning: Could not infer format, so each element will be parsed individually, falling back to `dateutil`. To ensure parsing is consistent and as-expected, please specify a format.\n",
      "  nat_gas['Dates'] = pd.to_datetime(nat_gas['Dates'])\n"
     ]
    },
    {
     "data": {
      "text/html": [
       "<div>\n",
       "<style scoped>\n",
       "    .dataframe tbody tr th:only-of-type {\n",
       "        vertical-align: middle;\n",
       "    }\n",
       "\n",
       "    .dataframe tbody tr th {\n",
       "        vertical-align: top;\n",
       "    }\n",
       "\n",
       "    .dataframe thead th {\n",
       "        text-align: right;\n",
       "    }\n",
       "</style>\n",
       "<table border=\"1\" class=\"dataframe\">\n",
       "  <thead>\n",
       "    <tr style=\"text-align: right;\">\n",
       "      <th></th>\n",
       "      <th>Prices</th>\n",
       "    </tr>\n",
       "    <tr>\n",
       "      <th>Dates</th>\n",
       "      <th></th>\n",
       "    </tr>\n",
       "  </thead>\n",
       "  <tbody>\n",
       "    <tr>\n",
       "      <th>2020-10-31</th>\n",
       "      <td>10.1</td>\n",
       "    </tr>\n",
       "    <tr>\n",
       "      <th>2020-11-30</th>\n",
       "      <td>10.3</td>\n",
       "    </tr>\n",
       "    <tr>\n",
       "      <th>2020-12-31</th>\n",
       "      <td>11.0</td>\n",
       "    </tr>\n",
       "    <tr>\n",
       "      <th>2021-01-31</th>\n",
       "      <td>10.9</td>\n",
       "    </tr>\n",
       "    <tr>\n",
       "      <th>2021-02-28</th>\n",
       "      <td>10.9</td>\n",
       "    </tr>\n",
       "  </tbody>\n",
       "</table>\n",
       "</div>"
      ],
      "text/plain": [
       "            Prices\n",
       "Dates             \n",
       "2020-10-31    10.1\n",
       "2020-11-30    10.3\n",
       "2020-12-31    11.0\n",
       "2021-01-31    10.9\n",
       "2021-02-28    10.9"
      ]
     },
     "execution_count": 64,
     "metadata": {},
     "output_type": "execute_result"
    }
   ],
   "source": [
    "nat_gas = pd.read_csv('./Nat_Gas.csv')\n",
    "nat_gas['Dates'] = pd.to_datetime(nat_gas['Dates'])\n",
    "nat_gas['Dates'].head()\n",
    "df = nat_gas.copy()\n",
    "df.index = df['Dates']\n",
    "del df['Dates']\n",
    "df.head()"
   ]
  },
  {
   "cell_type": "markdown",
   "metadata": {},
   "source": [
    "# Task\n",
    "- create a prototype **contract pricing** model \n",
    "    - write a function that is able to use the data from Task 1. "
   ]
  },
  {
   "cell_type": "code",
   "execution_count": 65,
   "metadata": {},
   "outputs": [
    {
     "data": {
      "text/html": [
       "<div>\n",
       "<style scoped>\n",
       "    .dataframe tbody tr th:only-of-type {\n",
       "        vertical-align: middle;\n",
       "    }\n",
       "\n",
       "    .dataframe tbody tr th {\n",
       "        vertical-align: top;\n",
       "    }\n",
       "\n",
       "    .dataframe thead th {\n",
       "        text-align: right;\n",
       "    }\n",
       "</style>\n",
       "<table border=\"1\" class=\"dataframe\">\n",
       "  <thead>\n",
       "    <tr style=\"text-align: right;\">\n",
       "      <th></th>\n",
       "      <th>Prices</th>\n",
       "    </tr>\n",
       "    <tr>\n",
       "      <th>Dates</th>\n",
       "      <th></th>\n",
       "    </tr>\n",
       "  </thead>\n",
       "  <tbody>\n",
       "    <tr>\n",
       "      <th>2020-10-31</th>\n",
       "      <td>10.1</td>\n",
       "    </tr>\n",
       "    <tr>\n",
       "      <th>2020-11-30</th>\n",
       "      <td>10.3</td>\n",
       "    </tr>\n",
       "    <tr>\n",
       "      <th>2020-12-31</th>\n",
       "      <td>11.0</td>\n",
       "    </tr>\n",
       "    <tr>\n",
       "      <th>2021-01-31</th>\n",
       "      <td>10.9</td>\n",
       "    </tr>\n",
       "    <tr>\n",
       "      <th>2021-02-28</th>\n",
       "      <td>10.9</td>\n",
       "    </tr>\n",
       "  </tbody>\n",
       "</table>\n",
       "</div>"
      ],
      "text/plain": [
       "            Prices\n",
       "Dates             \n",
       "2020-10-31    10.1\n",
       "2020-11-30    10.3\n",
       "2020-12-31    11.0\n",
       "2021-01-31    10.9\n",
       "2021-02-28    10.9"
      ]
     },
     "execution_count": 65,
     "metadata": {},
     "output_type": "execute_result"
    }
   ],
   "source": [
    "df.head()"
   ]
  },
  {
   "cell_type": "code",
   "execution_count": 17,
   "metadata": {},
   "outputs": [
    {
     "data": {
      "text/html": [
       "<div>\n",
       "<style scoped>\n",
       "    .dataframe tbody tr th:only-of-type {\n",
       "        vertical-align: middle;\n",
       "    }\n",
       "\n",
       "    .dataframe tbody tr th {\n",
       "        vertical-align: top;\n",
       "    }\n",
       "\n",
       "    .dataframe thead th {\n",
       "        text-align: right;\n",
       "    }\n",
       "</style>\n",
       "<table border=\"1\" class=\"dataframe\">\n",
       "  <thead>\n",
       "    <tr style=\"text-align: right;\">\n",
       "      <th></th>\n",
       "      <th>Prices</th>\n",
       "    </tr>\n",
       "  </thead>\n",
       "  <tbody>\n",
       "    <tr>\n",
       "      <th>2020-10-31</th>\n",
       "      <td>10.100000</td>\n",
       "    </tr>\n",
       "    <tr>\n",
       "      <th>2020-11-01</th>\n",
       "      <td>10.106667</td>\n",
       "    </tr>\n",
       "    <tr>\n",
       "      <th>2020-11-02</th>\n",
       "      <td>10.113333</td>\n",
       "    </tr>\n",
       "    <tr>\n",
       "      <th>2020-11-03</th>\n",
       "      <td>10.120000</td>\n",
       "    </tr>\n",
       "    <tr>\n",
       "      <th>2020-11-04</th>\n",
       "      <td>10.126667</td>\n",
       "    </tr>\n",
       "  </tbody>\n",
       "</table>\n",
       "</div>"
      ],
      "text/plain": [
       "               Prices\n",
       "2020-10-31  10.100000\n",
       "2020-11-01  10.106667\n",
       "2020-11-02  10.113333\n",
       "2020-11-03  10.120000\n",
       "2020-11-04  10.126667"
      ]
     },
     "execution_count": 17,
     "metadata": {},
     "output_type": "execute_result"
    }
   ],
   "source": [
    "# We want to retain the date index from the last task, so add parse_dates=True\n",
    "prices = pd.read_csv('./01-exported_pred_prices_nat_gas.csv', index_col=0, parse_dates=True)\n",
    "prices.head()"
   ]
  },
  {
   "cell_type": "code",
   "execution_count": 45,
   "metadata": {},
   "outputs": [
    {
     "name": "stderr",
     "output_type": "stream",
     "text": [
      "/var/folders/h0/722z94dd3fb0pfv4wg3qmdkh0000gn/T/ipykernel_76537/3697812350.py:1: FutureWarning: Calling float on a single element Series is deprecated and will raise a TypeError in the future. Use float(ser.iloc[0]) instead\n",
      "  float(prices.loc['2020-10-31'])\n"
     ]
    },
    {
     "data": {
      "text/plain": [
       "10.1"
      ]
     },
     "execution_count": 45,
     "metadata": {},
     "output_type": "execute_result"
    }
   ],
   "source": [
    "float(prices.loc['2020-10-31'])"
   ]
  },
  {
   "cell_type": "code",
   "execution_count": 116,
   "metadata": {},
   "outputs": [],
   "source": [
    "def calculate_margin(volume_list):\n",
    "\n",
    "    '''\n",
    "        volume_list will have to be written in the following manner:\n",
    "            volume_list = [(date1, 100), (date2, -400), (date3, 50), (date4, 75), (date5, -175)]\n",
    "        wherein the negative implies it is a withdrawal, and positive stands for injection\n",
    "    '''\n",
    "\n",
    "    # Calculate storage costs\n",
    "    earliest_date = min(pd.to_datetime(date) for date, _ in volume_list)\n",
    "    latest_date = max(pd.to_datetime(date) for date, _ in volume_list)\n",
    "    storage_duration = (latest_date - earliest_date).days / 30  # Months\n",
    "    storage_cost = storage_duration * 100000  # $100K/month\n",
    "\n",
    "    # Calculate injection and withdrawal costs, and revenue\n",
    "    total_operations = len(volume_list) # Assuming that we can only inject OR withdraw and not both at a given date\n",
    "    transport_and_operator_costs = 0\n",
    "    revenue = 0\n",
    "    for date, volume in volume_list:\n",
    "        transport_cost = abs(volume) * 10000  # $10K/MMBtu (use absolute value for transport cost)\n",
    "        transport_and_operator_costs += transport_cost + 50000  # Add flat operator fee\n",
    "\n",
    "        date =  pd.to_datetime(date) # Enables flexibility in how dates are entered\n",
    "        price = prices.loc[date, 'Prices']  # Get price for either injection or withdrawal from our price df\n",
    "        \n",
    "\n",
    "        if volume > 0:  # Injection (buying)\n",
    "            revenue -= volume * price * 1000000  # Subtract cost of buying\n",
    "        else:  # Withdrawal (selling)\n",
    "            revenue += -volume * price * 1000000  # Add revenue from selling\n",
    "\n",
    "    # Calculate margin\n",
    "    margin = revenue - storage_cost - transport_and_operator_costs\n",
    "\n",
    "    return format(revenue, \".2f\")"
   ]
  },
  {
   "cell_type": "code",
   "execution_count": 117,
   "metadata": {},
   "outputs": [],
   "source": [
    "volume_list = [\n",
    "    ('June 29, 2021', 3), #injects 30MMBtu on June 6th, 2021, i.e., bought \n",
    "    ('August 15, 2021', -1.5), # sells 5 on Aug 15, 2021, i.e., withdrew 5MMBtu\n",
    "    ('Sep 12, 2021', 1),\n",
    "    ('Dec 29, 2021', -2.5)\n",
    "]"
   ]
  },
  {
   "cell_type": "code",
   "execution_count": 118,
   "metadata": {},
   "outputs": [
    {
     "data": {
      "text/plain": [
       "'3518903.23'"
      ]
     },
     "execution_count": 118,
     "metadata": {},
     "output_type": "execute_result"
    }
   ],
   "source": [
    "calculate_margin(volume_list)"
   ]
  }
 ],
 "metadata": {
  "kernelspec": {
   "display_name": "base",
   "language": "python",
   "name": "python3"
  },
  "language_info": {
   "codemirror_mode": {
    "name": "ipython",
    "version": 3
   },
   "file_extension": ".py",
   "mimetype": "text/x-python",
   "name": "python",
   "nbconvert_exporter": "python",
   "pygments_lexer": "ipython3",
   "version": "3.11.6"
  }
 },
 "nbformat": 4,
 "nbformat_minor": 2
}
